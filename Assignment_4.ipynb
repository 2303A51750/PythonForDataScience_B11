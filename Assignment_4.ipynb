{
  "nbformat": 4,
  "nbformat_minor": 0,
  "metadata": {
    "colab": {
      "provenance": [],
      "authorship_tag": "ABX9TyNgGmdQTgHLXHAOBJhIVaVC",
      "include_colab_link": true
    },
    "kernelspec": {
      "name": "python3",
      "display_name": "Python 3"
    },
    "language_info": {
      "name": "python"
    }
  },
  "cells": [
    {
      "cell_type": "markdown",
      "metadata": {
        "id": "view-in-github",
        "colab_type": "text"
      },
      "source": [
        "<a href=\"https://colab.research.google.com/github/2303A51750/PythonForDataScience_B11/blob/main/Assignment_4.ipynb\" target=\"_parent\"><img src=\"https://colab.research.google.com/assets/colab-badge.svg\" alt=\"Open In Colab\"/></a>"
      ]
    },
    {
      "cell_type": "code",
      "execution_count": 3,
      "metadata": {
        "colab": {
          "base_uri": "https://localhost:8080/"
        },
        "id": "KnAibTOD5_k8",
        "outputId": "f60bac09-7335-4e92-abe5-f02ce82cfc14"
      },
      "outputs": [
        {
          "output_type": "stream",
          "name": "stdout",
          "text": [
            "   Student_ID     Name  Math  Science  English\n",
            "0           1    Alice  85.0     90.0     88.0\n",
            "1           2      Bob  78.0     79.2     72.0\n",
            "2           3  Charlie  82.6     76.0     79.0\n",
            "3           4    David  92.0     85.0     79.4\n",
            "4           5      Eva  70.0     65.0     68.0\n",
            "5           6    Frank  88.0     80.0     90.0\n"
          ]
        }
      ],
      "source": [
        "import pandas as pd\n",
        "import numpy as np\n",
        "data = pd.read_csv('/content/student_scores.csv')\n",
        "df = data.fillna(data.mean(numeric_only = True))\n",
        "print(df)"
      ]
    },
    {
      "cell_type": "code",
      "source": [
        "high = df[(df[\"Math\"]>75) & (df[\"Science\"]>75) & (df[\"English\"]>75)]\n",
        "print(high)"
      ],
      "metadata": {
        "colab": {
          "base_uri": "https://localhost:8080/"
        },
        "id": "2n_i1yZ97BiD",
        "outputId": "f8395504-d797-4304-faa1-af6cec00ec71"
      },
      "execution_count": 4,
      "outputs": [
        {
          "output_type": "stream",
          "name": "stdout",
          "text": [
            "   Student_ID     Name  Math  Science  English\n",
            "0           1    Alice  85.0     90.0     88.0\n",
            "2           3  Charlie  82.6     76.0     79.0\n",
            "3           4    David  92.0     85.0     79.4\n",
            "5           6    Frank  88.0     80.0     90.0\n"
          ]
        }
      ]
    },
    {
      "cell_type": "code",
      "source": [
        "import pandas as pd\n",
        "df = pd.read_csv(\"/content/patients (1).csv\")\n",
        "df.fillna(df.median(numeric_only= True) , inplace=True)\n",
        "print(df)"
      ],
      "metadata": {
        "colab": {
          "base_uri": "https://localhost:8080/"
        },
        "id": "qpePpJFG73iT",
        "outputId": "f8011d6e-442c-42d2-e320-14e0223b8f23"
      },
      "execution_count": 5,
      "outputs": [
        {
          "output_type": "stream",
          "name": "stdout",
          "text": [
            "   Patient_ID       Name   Age  Gender     Diagnosis Admission_Date\n",
            "0         101      Alice  65.0  Female      Diabetes     2023-01-12\n",
            "1         102        Bob  60.0    Male  Hypertension     2023-02-15\n",
            "2         103  Catherine  54.0  Female      Diabetes     2023-03-10\n",
            "3         104      David  45.0    Male        Asthma     2023-04-05\n",
            "4         105        Eva  70.0  Female           Flu     2023-05-20\n",
            "5         106      Fiona  60.0  Female      Diabetes     2023-06-18\n",
            "6         107     George  60.0    Male      Diabetes     2023-07-22\n"
          ]
        }
      ]
    },
    {
      "cell_type": "code",
      "source": [
        "f=df[(df[\"Age\"]>50) & (df[\"Diagnosis\"] == \"Diabetes\")]\n",
        "print(f)"
      ],
      "metadata": {
        "colab": {
          "base_uri": "https://localhost:8080/"
        },
        "id": "9TG-lgk78jzv",
        "outputId": "802c3cae-08ce-40e8-80cc-774c6c6d3536"
      },
      "execution_count": 6,
      "outputs": [
        {
          "output_type": "stream",
          "name": "stdout",
          "text": [
            "   Patient_ID       Name   Age  Gender Diagnosis Admission_Date\n",
            "0         101      Alice  65.0  Female  Diabetes     2023-01-12\n",
            "2         103  Catherine  54.0  Female  Diabetes     2023-03-10\n",
            "5         106      Fiona  60.0  Female  Diabetes     2023-06-18\n",
            "6         107     George  60.0    Male  Diabetes     2023-07-22\n"
          ]
        }
      ]
    }
  ]
}